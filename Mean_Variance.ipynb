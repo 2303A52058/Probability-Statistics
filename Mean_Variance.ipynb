{
  "nbformat": 4,
  "nbformat_minor": 0,
  "metadata": {
    "colab": {
      "provenance": [],
      "authorship_tag": "ABX9TyNs55ft3LGMBG8Qf5FhnwMl",
      "include_colab_link": true
    },
    "kernelspec": {
      "name": "python3",
      "display_name": "Python 3"
    },
    "language_info": {
      "name": "python"
    }
  },
  "cells": [
    {
      "cell_type": "markdown",
      "metadata": {
        "id": "view-in-github",
        "colab_type": "text"
      },
      "source": [
        "<a href=\"https://colab.research.google.com/github/2303A52058/Probability-Statistics/blob/main/Mean_Variance.ipynb\" target=\"_parent\"><img src=\"https://colab.research.google.com/assets/colab-badge.svg\" alt=\"Open In Colab\"/></a>"
      ]
    },
    {
      "cell_type": "code",
      "execution_count": 1,
      "metadata": {
        "colab": {
          "base_uri": "https://localhost:8080/"
        },
        "id": "84sJRwUTyQFQ",
        "outputId": "9dd998b0-348c-4a39-d20e-33dca37e4b40"
      },
      "outputs": [
        {
          "output_type": "stream",
          "name": "stdout",
          "text": [
            "Mean= 88.0\n"
          ]
        }
      ],
      "source": [
        "import numpy as np\n",
        "data=[85,92,78,89,95,87,90]\n",
        "mean=sum(data)/len(data)\n",
        "print(\"Mean=\",mean)"
      ]
    },
    {
      "cell_type": "code",
      "source": [
        "import numpy as np\n",
        "values=[15,16,17,18,19,20]\n",
        "freq=[2,5,11,9,14,13]\n",
        "sum_fx=sum(f*x for f,x in zip(freq,values))\n",
        "sum_f=sum(freq)\n",
        "mean=sum_fx/sum_f\n",
        "print(\"Mean=\",mean)"
      ],
      "metadata": {
        "colab": {
          "base_uri": "https://localhost:8080/"
        },
        "id": "x-WyM7jnynfc",
        "outputId": "c8a06817-5686-40ce-abee-24522a6c4887"
      },
      "execution_count": 2,
      "outputs": [
        {
          "output_type": "stream",
          "name": "stdout",
          "text": [
            "Mean= 18.24074074074074\n"
          ]
        }
      ]
    },
    {
      "cell_type": "code",
      "source": [
        "import numpy as np\n",
        "interval=[(0,10),(10,20),(20,30),(30,40),(40,50),(50,60)]\n",
        "freq=[12,18,27,20,17,6]\n",
        "midpoint=[(start+end)/2 for start,end in interval]\n",
        "sum_fx=sum(f*x for f,x in zip(freq,midpoint))\n",
        "sum_f=sum(freq)\n",
        "mean=sum_fx/sum_f\n",
        "print(\"Mean=\",mean)"
      ],
      "metadata": {
        "colab": {
          "base_uri": "https://localhost:8080/"
        },
        "id": "em22fz5wzEWO",
        "outputId": "5c08fd89-730a-4ebc-e5cf-a9e7a8252b9b"
      },
      "execution_count": 3,
      "outputs": [
        {
          "output_type": "stream",
          "name": "stdout",
          "text": [
            "Mean= 28.0\n"
          ]
        }
      ]
    },
    {
      "cell_type": "code",
      "source": [
        "import numpy as np\n",
        "data=[13,22,25,25,14,23,31,16]\n",
        "mean=sum(data)/len(data)\n",
        "squared_diff=[(x-mean)**2 for x in data]\n",
        "variance=sum(squared_diff)/len(data)\n",
        "std_dev=variance**0.5\n",
        "print(\"Variance:\",variance)\n",
        "print(\"Standard Deviation:\",std_dev)"
      ],
      "metadata": {
        "colab": {
          "base_uri": "https://localhost:8080/"
        },
        "id": "u2WBQzIvzrdp",
        "outputId": "9c5a8e61-9d09-4ae1-e968-3bdf2c14be71"
      },
      "execution_count": 4,
      "outputs": [
        {
          "output_type": "stream",
          "name": "stdout",
          "text": [
            "Variance: 34.359375\n",
            "Standard Deviation: 5.861687043846677\n"
          ]
        }
      ]
    },
    {
      "cell_type": "code",
      "source": [
        "import numpy as np\n",
        "values=[15,16,17,18,19,20]\n",
        "freq=[2,5,11,9,14,13]\n",
        "sum_fx=sum(f*x for f,x in zip(freq,values))\n",
        "sum_f=sum(freq)\n",
        "mean=sum_fx/sum_f\n",
        "squared_diff=[(x-mean)**2 for x in values]\n",
        "variance=sum(f*s for f,s in zip(freq,squared_diff))/sum_f\n",
        "std_dev=variance**0.5\n",
        "print(\"Mean:\",mean)\n",
        "print(\"Variance:\",variance)\n",
        "print(\"Standard Deviation:\",std_dev)"
      ],
      "metadata": {
        "colab": {
          "base_uri": "https://localhost:8080/"
        },
        "id": "dNbL5apZ0WwB",
        "outputId": "ed4b0cff-b780-4138-fe7f-1a1193994017"
      },
      "execution_count": 5,
      "outputs": [
        {
          "output_type": "stream",
          "name": "stdout",
          "text": [
            "Mean: 18.24074074074074\n",
            "Variance: 2.0716735253772294\n",
            "Standard Deviation: 1.43933092976467\n"
          ]
        }
      ]
    },
    {
      "cell_type": "code",
      "source": [
        "import numpy as np\n",
        "interval=[(0,10),(10,20),(20,30),(30,40),(40,50),(50,60)]\n",
        "freq=[12,18,27,20,17,6]\n",
        "midpoint=[(start+end)/2 for start,end in interval]\n",
        "sum_fx=sum(f*x for f,x in zip(freq,midpoint))\n",
        "sum_f=sum(freq)\n",
        "mean=sum_fx/sum_f\n",
        "squared_diff=[(x-mean)**2 for x in midpoint]\n",
        "variance=sum(f*x for f,x in zip(freq,squared_diff))/sum_f\n",
        "std_dev=variance**0.5\n",
        "print(\"Mean:\",mean)\n",
        "print(\"Variance:\",variance)\n",
        "print(\"Standard Deviation:\",std_dev)"
      ],
      "metadata": {
        "colab": {
          "base_uri": "https://localhost:8080/"
        },
        "id": "fuXAXQJH1baT",
        "outputId": "fc89c772-d676-4f5f-9f1e-1331a036ebd0"
      },
      "execution_count": 7,
      "outputs": [
        {
          "output_type": "stream",
          "name": "stdout",
          "text": [
            "Mean: 28.0\n",
            "Variance: 199.0\n",
            "Standard Deviation: 14.106735979665885\n"
          ]
        }
      ]
    }
  ]
}