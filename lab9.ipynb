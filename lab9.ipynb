{
  "nbformat": 4,
  "nbformat_minor": 0,
  "metadata": {
    "colab": {
      "provenance": [],
      "authorship_tag": "ABX9TyP3x3D/n70cJf4yC1vt9/9X",
      "include_colab_link": true
    },
    "kernelspec": {
      "name": "python3",
      "display_name": "Python 3"
    },
    "language_info": {
      "name": "python"
    }
  },
  "cells": [
    {
      "cell_type": "markdown",
      "metadata": {
        "id": "view-in-github",
        "colab_type": "text"
      },
      "source": [
        "<a href=\"https://colab.research.google.com/github/2303A52058/Probability-Statistics/blob/main/lab9.ipynb\" target=\"_parent\"><img src=\"https://colab.research.google.com/assets/colab-badge.svg\" alt=\"Open In Colab\"/></a>"
      ]
    },
    {
      "cell_type": "code",
      "execution_count": null,
      "metadata": {
        "colab": {
          "base_uri": "https://localhost:8080/"
        },
        "id": "5WbfViEf0-BI",
        "outputId": "1e55b02a-4805-4b95-8b2d-344ad0f68085"
      },
      "outputs": [
        {
          "output_type": "stream",
          "name": "stdout",
          "text": [
            "Mean of Group A: 2.95\n",
            "Mean of Group B: 1.71\n",
            "Standard Deviation of Group A: 0.24\n",
            "Standard Deviation of Group B: 0.17\n",
            "T-Statistic: 13.55\n",
            "P-Value: 0.00000\n",
            "There is a significant difference in average daily water intake between the two groups (p < 0.05).\n"
          ]
        }
      ],
      "source": [
        "import numpy as np\n",
        "from scipy import stats\n",
        "\n",
        "# Data\n",
        "group_A = np.array([2.8, 3.1, 3.0, 2.5, 3.2, 3.0, 3.3, 2.7, 2.9, 3.0])\n",
        "group_B = np.array([1.5, 1.7, 1.6, 1.9, 2.0, 1.8, 1.7, 1.6, 1.8, 1.5])\n",
        "\n",
        "# Calculate means and standard deviations\n",
        "mean_A = np.mean(group_A)\n",
        "mean_B = np.mean(group_B)\n",
        "std_A = np.std(group_A, ddof=1)\n",
        "std_B = np.std(group_B, ddof=1)\n",
        "\n",
        "# Perform independent t-test\n",
        "t_stat, p_value = stats.ttest_ind(group_A, group_B, equal_var=True)\n",
        "\n",
        "# Display results\n",
        "print(f\"Mean of Group A: {mean_A:.2f}\")\n",
        "print(f\"Mean of Group B: {mean_B:.2f}\")\n",
        "print(f\"Standard Deviation of Group A: {std_A:.2f}\")\n",
        "print(f\"Standard Deviation of Group B: {std_B:.2f}\")\n",
        "print(f\"T-Statistic: {t_stat:.2f}\")\n",
        "print(f\"P-Value: {p_value:.5f}\")\n",
        "\n",
        "# Interpretation\n",
        "alpha = 0.05\n",
        "if p_value < alpha:\n",
        "    print(\"There is a significant difference in average daily water intake between the two groups (p < 0.05).\")\n",
        "else:\n",
        "    print(\"There is no significant difference in average daily water intake between the two groups (p >= 0.05).\")\n"
      ]
    },
    {
      "cell_type": "code",
      "source": [
        "import numpy as np\n",
        "from scipy import stats\n",
        "\n",
        "# Data\n",
        "group_A = np.array([7, 8, 6, 9, 10, 8, 7, 6, 8, 9])\n",
        "group_B = np.array([3, 4, 2, 3, 5, 4, 3, 2, 4, 3])\n",
        "\n",
        "# Calculate means and standard deviations\n",
        "mean_A = np.mean(group_A)\n",
        "mean_B = np.mean(group_B)\n",
        "std_A = np.std(group_A, ddof=1)\n",
        "std_B = np.std(group_B, ddof=1)\n",
        "\n",
        "# Perform independent t-test\n",
        "t_stat, p_value = stats.ttest_ind(group_A, group_B, equal_var=True)\n",
        "\n",
        "# Display results\n",
        "print(f\"Mean of Group A: {mean_A:.2f}\")\n",
        "print(f\"Mean of Group B: {mean_B:.2f}\")\n",
        "print(f\"Standard Deviation of Group A: {std_A:.2f}\")\n",
        "print(f\"Standard Deviation of Group B: {std_B:.2f}\")\n",
        "print(f\"T-Statistic: {t_stat:.2f}\")\n",
        "print(f\"P-Value: {p_value:.5f}\")\n",
        "\n",
        "# Interpretation\n",
        "alpha = 0.05\n",
        "if p_value < alpha:\n",
        "    print(\"There is a significant difference in average hours spent exercising per week between the two groups (p < 0.05).\")\n",
        "else:\n",
        "    print(\"There is no significant difference in average hours spent exercising per week between the two groups (p >= 0.05).\")\n"
      ],
      "metadata": {
        "colab": {
          "base_uri": "https://localhost:8080/"
        },
        "id": "1eicY4Fi1u16",
        "outputId": "ce290f9c-7212-4629-ce2e-3e6e39bc2e60"
      },
      "execution_count": null,
      "outputs": [
        {
          "output_type": "stream",
          "name": "stdout",
          "text": [
            "Mean of Group A: 7.80\n",
            "Mean of Group B: 3.30\n",
            "Standard Deviation of Group A: 1.32\n",
            "Standard Deviation of Group B: 0.95\n",
            "T-Statistic: 8.77\n",
            "P-Value: 0.00000\n",
            "There is a significant difference in average hours spent exercising per week between the two groups (p < 0.05).\n"
          ]
        }
      ]
    },
    {
      "cell_type": "code",
      "source": [
        "import numpy as np\n",
        "from scipy import stats\n",
        "\n",
        "# Updated Data\n",
        "group_A = np.array([4, 5, 6, 3, 5, 6, 4, 5, 7, 6])  # Regular Book Readers\n",
        "group_B = np.array([1, 2, 3, 2, 1, 4, 2, 1, 3, 2])  # Non-Regular Book Readers\n",
        "\n",
        "# Calculate means and standard deviations\n",
        "mean_A = np.mean(group_A)\n",
        "mean_B = np.mean(group_B)\n",
        "std_A = np.std(group_A, ddof=1)\n",
        "std_B = np.std(group_B, ddof=1)\n",
        "\n",
        "# Perform independent t-test\n",
        "t_stat, p_value = stats.ttest_ind(group_A, group_B, equal_var=True)\n",
        "\n",
        "# Display results\n",
        "print(f\"Mean of Group A (Regular Readers): {mean_A:.2f}\")\n",
        "print(f\"Mean of Group B (Non-Regular Readers): {mean_B:.2f}\")\n",
        "print(f\"Standard Deviation of Group A: {std_A:.2f}\")\n",
        "print(f\"Standard Deviation of Group B: {std_B:.2f}\")\n",
        "print(f\"T-Statistic: {t_stat:.2f}\")\n",
        "print(f\"P-Value: {p_value:.5f}\")\n",
        "\n",
        "# Interpretation\n",
        "alpha = 0.05\n",
        "if p_value < alpha:\n",
        "    print(\"There is a significant difference in average hours spent reading per week between the two groups (p < 0.05).\")\n",
        "else:\n",
        "    print(\"There is no significant difference in average hours spent reading per week between the two groups (p >= 0.05).\")\n"
      ],
      "metadata": {
        "colab": {
          "base_uri": "https://localhost:8080/"
        },
        "id": "RXODc4iEH84R",
        "outputId": "8fa96a1a-217b-41d1-ed8e-c5def5b76e6e"
      },
      "execution_count": null,
      "outputs": [
        {
          "output_type": "stream",
          "name": "stdout",
          "text": [
            "Mean of Group A (Regular Readers): 5.10\n",
            "Mean of Group B (Non-Regular Readers): 2.10\n",
            "Standard Deviation of Group A: 1.20\n",
            "Standard Deviation of Group B: 0.99\n",
            "T-Statistic: 6.10\n",
            "P-Value: 0.00001\n",
            "There is a significant difference in average hours spent reading per week between the two groups (p < 0.05).\n"
          ]
        }
      ]
    }
  ]
}