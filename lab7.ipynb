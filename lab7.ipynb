{
  "nbformat": 4,
  "nbformat_minor": 0,
  "metadata": {
    "colab": {
      "provenance": [],
      "authorship_tag": "ABX9TyMxQCPTsOHzf6O5/AszW0sC",
      "include_colab_link": true
    },
    "kernelspec": {
      "name": "python3",
      "display_name": "Python 3"
    },
    "language_info": {
      "name": "python"
    }
  },
  "cells": [
    {
      "cell_type": "markdown",
      "metadata": {
        "id": "view-in-github",
        "colab_type": "text"
      },
      "source": [
        "<a href=\"https://colab.research.google.com/github/2303A52058/Probability-Statistics/blob/main/lab7.ipynb\" target=\"_parent\"><img src=\"https://colab.research.google.com/assets/colab-badge.svg\" alt=\"Open In Colab\"/></a>"
      ]
    },
    {
      "cell_type": "code",
      "execution_count": 1,
      "metadata": {
        "colab": {
          "base_uri": "https://localhost:8080/"
        },
        "id": "49cE69xHm9-N",
        "outputId": "f7f42170-1e97-465b-ddb2-42c8deeb9c57"
      },
      "outputs": [
        {
          "output_type": "stream",
          "name": "stdout",
          "text": [
            "Mean:  27466.666666666668\n"
          ]
        }
      ],
      "source": [
        "import numpy as np\n",
        "data=[25000,31000,20000,28000,29500,32000,21000,30500,27000,28500,30000,23000,31000,26000,29500]\n",
        "mean=sum(data)/len(data)\n",
        "print(\"Mean: \",mean)"
      ]
    },
    {
      "cell_type": "code",
      "source": [
        "import numpy as np\n",
        "import scipy.stats as stats\n",
        "\n",
        "# Given data\n",
        "sample_data = np.array([25000, 31000, 20000, 28000, 29500, 32000, 21000, 30500, 27000, 28500, 30000, 23000, 31000, 26000, 29500])\n",
        "\n",
        "# Claimed population mean\n",
        "mu_0 = 30000\n",
        "\n",
        "# Step 1: Compute sample mean and standard deviation\n",
        "sample_mean = np.mean(sample_data)\n",
        "sample_std = np.std(sample_data, ddof=1)  # Using Bessel's correction (n-1 in denominator)\n",
        "n = len(sample_data)\n",
        "\n",
        "# Step 2: Compute 95% confidence interval for the sample mean\n",
        "t_critical = stats.t.ppf(0.975, df=n-1)  # Two-tailed test\n",
        "margin_of_error = t_critical * (sample_std / np.sqrt(n))\n",
        "confidence_interval = (sample_mean - margin_of_error, sample_mean + margin_of_error)\n",
        "\n",
        "# Step 3: Hypothesis testing\n",
        "if mu_0 < confidence_interval[0] or mu_0 > confidence_interval[1]:\n",
        "    conclusion = \"Reject the null hypothesis: The actual mean cost of living is significantly different from ₹30,000.\"\n",
        "else:\n",
        "    conclusion = \"Fail to reject the null hypothesis: There is no significant evidence that the actual mean cost of living is different from ₹30,000.\"\n",
        "\n",
        "# Print results\n",
        "print(f\"Sample Mean: ₹{sample_mean:.2f}\")\n",
        "print(f\"Sample Standard Deviation: ₹{sample_std:.2f}\")\n",
        "print(f\"95% Confidence Interval: {confidence_interval}\")\n",
        "print(conclusion)\n"
      ],
      "metadata": {
        "colab": {
          "base_uri": "https://localhost:8080/"
        },
        "id": "qIINDh_tp1AN",
        "outputId": "f7f9a65f-1a11-4e27-9daa-76528ecfec8b"
      },
      "execution_count": 2,
      "outputs": [
        {
          "output_type": "stream",
          "name": "stdout",
          "text": [
            "Sample Mean: ₹27466.67\n",
            "Sample Standard Deviation: ₹3748.65\n",
            "95% Confidence Interval: (25390.733185830333, 29542.600147503003)\n",
            "Reject the null hypothesis: The actual mean cost of living is significantly different from ₹30,000.\n"
          ]
        }
      ]
    }
  ]
}